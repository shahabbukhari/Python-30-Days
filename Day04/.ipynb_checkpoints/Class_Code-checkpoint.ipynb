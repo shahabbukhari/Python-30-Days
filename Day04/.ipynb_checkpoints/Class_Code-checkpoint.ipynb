{
 "cells": [
  {
   "cell_type": "markdown",
   "metadata": {},
   "source": [
    "# Regular Expression\n",
    "\n",
    "A regular expression is the sequence of characters that defines a search pattern. regular expressions are use in searching, validating emails, phone numbers, and web scraping\n",
    "\n",
    "- lower case letters a to z (a-z) and uppercase case letters A to Z (A-Z)\n",
    "- Digits 0 to 9 (0-9)\n",
    "- digits (\\d) and non digits (\\D)\n",
    "- Range [] Group () One or more + Escape following character \\\n",
    "\n",
    "***Escaping:*** is a way of treating characters which have a special meaning in regular expressions literally, rather than as special characters\n",
    "\n",
    "**You can find many more at here** -> [Regular Expressions Cheat Sheet](https://cheatography.com/davechild/cheat-sheets/regular-expressions/pdf/)"
   ]
  },
  {
   "cell_type": "markdown",
   "metadata": {},
   "source": [
    "**First Run this before running any column**"
   ]
  },
  {
   "cell_type": "code",
   "execution_count": 1,
   "metadata": {},
   "outputs": [],
   "source": [
    "import re"
   ]
  },
  {
   "cell_type": "markdown",
   "metadata": {},
   "source": [
    "## Email validation"
   ]
  },
  {
   "cell_type": "code",
   "execution_count": 14,
   "metadata": {},
   "outputs": [
    {
     "name": "stdout",
     "output_type": "stream",
     "text": [
      "Enter your email: devidj@hav.edu\n",
      "valid\n"
     ]
    }
   ],
   "source": [
    "patter = \"[a-zA-Z0-9]+@[a-zA-Z]+\\.(com|edu|net)\"\n",
    "email = input('Enter your email: ')\n",
    "if (re.search(patter,email)):\n",
    "    print('valid')\n",
    "else:\n",
    "    print('invalid')"
   ]
  },
  {
   "cell_type": "markdown",
   "metadata": {},
   "source": [
    "### Raw Strings:\n",
    "Raw string is a very powerfull feauture using which we can intruduce raw strings without escaping any character. this treats characters such as '\\' as a literal character\n",
    "A python raw string prefix r or R e.g *r' '*"
   ]
  },
  {
   "cell_type": "code",
   "execution_count": 24,
   "metadata": {},
   "outputs": [
    {
     "name": "stdout",
     "output_type": "stream",
     "text": [
      "Normal String -> hi \t i am \n",
      " shahab\n",
      "Raw String -> hi \\t i am \\n shahab\n"
     ]
    }
   ],
   "source": [
    "# \\t treat as Tab & \\n treat as new line\n",
    "\n",
    "# Normal String\n",
    "nor_string = 'hi \\t i am \\n shahab'\n",
    "print(f'Normal String -> {nor_string}')\n",
    "\n",
    "# raw String\n",
    "raw_string = r'hi \\t i am \\n shahab'\n",
    "print(f'Raw String -> {raw_string}')"
   ]
  },
  {
   "cell_type": "markdown",
   "metadata": {},
   "source": [
    "## Phone number validation"
   ]
  },
  {
   "cell_type": "code",
   "execution_count": 31,
   "metadata": {},
   "outputs": [
    {
     "name": "stdout",
     "output_type": "stream",
     "text": [
      "Enter a phone number0325-5864-684\n",
      "03255864684\n"
     ]
    }
   ],
   "source": [
    "pattern = \"(\\d\\d\\d\\d)-(\\d\\d\\d\\d)-(\\d\\d\\d)\"\n",
    "# Temaplate how we want the output after removing '-'\n",
    "pattern_temp = r\"\\1\\2\\3\"\n",
    "user_input = input('Enter a phone number')\n",
    "phone_number = re.sub(pattern,pattern_temp,user_input)\n",
    "print(phone_number)"
   ]
  },
  {
   "cell_type": "code",
   "execution_count": 13,
   "metadata": {},
   "outputs": [
    {
     "name": "stdout",
     "output_type": "stream",
     "text": [
      "+923142545145\n",
      "+92-314-2545-145\n"
     ]
    }
   ],
   "source": [
    "import re\n",
    "ptn = '(\\d\\d\\d)(\\d\\d\\d\\d)(\\d\\d\\d)'\n",
    "ptn_tem = r'+92-\\1-\\2-\\3'\n",
    "user_input = input('+92')\n",
    "phone = re.sub(ptn,ptn_tem,user_input)\n",
    "print(phone)"
   ]
  },
  {
   "cell_type": "markdown",
   "metadata": {},
   "source": [
    "# Simple search"
   ]
  },
  {
   "cell_type": "code",
   "execution_count": 3,
   "metadata": {},
   "outputs": [
    {
     "name": "stdout",
     "output_type": "stream",
     "text": [
      "\tSat, 5 Jan 2008 09:14:15 -0500\n",
      "\n",
      "\tSat,  5 Jan 2008 14:10:05 +0000 (GMT)\n",
      "\n",
      "\tFri, 4 Jan 2008 18:10:37 -0500\n",
      "\n",
      "\tFri,  4 Jan 2008 23:10:33 +0000 (GMT)\n",
      "\n",
      "\tFri, 4 Jan 2008 16:10:38 -0500\n",
      "\n",
      "\tFri,  4 Jan 2008 21:10:31 +0000 (GMT)\n",
      "\n",
      "\tFri, 4 Jan 2008 15:46:23 -0500\n",
      "\n",
      "\tFri,  4 Jan 2008 20:46:13 +0000 (GMT)\n",
      "\n",
      "\tFri, 4 Jan 2008 15:03:17 -0500\n",
      "\n",
      "\tFri,  4 Jan 2008 20:03:09 +0000 (GMT)\n",
      "\n",
      "\tFri, 4 Jan 2008 14:50:17 -0500\n",
      "\n",
      "\tFri,  4 Jan 2008 19:47:10 +0000 (GMT)\n",
      "\n",
      "\tFri, 4 Jan 2008 11:37:29 -0500\n",
      "\n",
      "\tFri,  4 Jan 2008 16:37:07 +0000 (GMT)\n",
      "\n",
      "\tFri, 4 Jan 2008 11:35:06 -0500\n",
      "\n",
      "\tFri,  4 Jan 2008 16:34:38 +0000 (GMT)\n",
      "\n",
      "\tFri, 4 Jan 2008 11:12:36 -0500\n",
      "\n",
      "\tFri,  4 Jan 2008 16:12:27 +0000 (GMT)\n",
      "\n",
      "\tFri, 4 Jan 2008 11:11:52 -0500\n",
      "\n",
      "\tFri,  4 Jan 2008 16:11:31 +0000 (GMT)\n",
      "\n",
      "\tFri, 4 Jan 2008 11:11:03 -0500\n",
      "\n",
      "\tFri,  4 Jan 2008 16:10:53 +0000 (GMT)\n",
      "\n",
      "\tFri, 4 Jan 2008 11:10:21 -0500\n",
      "\n",
      "\tFri,  4 Jan 2008 16:10:11 +0000 (GMT)\n",
      "\n",
      "\tFri, 4 Jan 2008 10:38:41 -0500\n",
      "\n",
      "\tFri,  4 Jan 2008 15:37:36 +0000 (GMT)\n",
      "\n",
      "\tFri, 4 Jan 2008 10:17:42 -0500\n",
      "\n",
      "\tFri,  4 Jan 2008 15:17:34 +0000 (GMT)\n",
      "\n",
      "\tFri, 4 Jan 2008 10:04:13 -0500\n",
      "\n",
      "\tFri,  4 Jan 2008 15:04:00 +0000 (GMT)\n",
      "\n",
      "\tFri, 4 Jan 2008 09:05:30 -0500\n",
      "\n",
      "\tFri,  4 Jan 2008 14:05:26 +0000 (GMT)\n",
      "\n",
      "\tFri, 4 Jan 2008 07:02:31 -0500\n",
      "\n",
      "\tFri,  4 Jan 2008 12:02:11 +0000 (GMT)\n",
      "\n",
      "\tFri, 4 Jan 2008 06:08:26 -0500\n",
      "\n",
      "\tFri,  4 Jan 2008 11:08:12 +0000 (GMT)\n",
      "\n",
      "\tFri, 4 Jan 2008 04:49:06 -0500\n",
      "\n",
      "\tFri,  4 Jan 2008 09:48:55 +0000 (GMT)\n",
      "\n",
      "\tFri, 4 Jan 2008 04:33:42 -0500\n",
      "\n",
      "\tFri,  4 Jan 2008 09:33:27 +0000 (GMT)\n",
      "\n",
      "\tFri, 4 Jan 2008 04:07:32 -0500\n",
      "\n",
      "\tFri,  4 Jan 2008 09:07:19 +0000 (GMT)\n",
      "\n",
      "\tThu, 3 Jan 2008 19:51:19 -0500\n",
      "\n",
      "\tFri,  4 Jan 2008 00:36:06 +0000 (GMT)\n",
      "\n",
      "\tThu, 3 Jan 2008 17:18:22 -0500\n",
      "\n",
      "\tThu,  3 Jan 2008 22:18:19 +0000 (GMT)\n",
      "\n",
      "\tThu, 3 Jan 2008 17:06:59 -0500\n",
      "\n",
      "\tThu,  3 Jan 2008 22:06:57 +0000 (GMT)\n",
      "\n",
      "\tThu, 3 Jan 2008 16:34:39 -0500\n",
      "\n",
      "\tThu,  3 Jan 2008 21:34:29 +0000 (GMT)\n",
      "\n",
      "\tThu, 3 Jan 2008 16:29:06 -0500\n",
      "\n",
      "\tThu,  3 Jan 2008 21:28:52 +0000 (GMT)\n",
      "\n",
      "\tThu, 3 Jan 2008 16:23:47 -0500\n",
      "\n",
      "\tThu,  3 Jan 2008 21:23:38 +0000 (GMT)\n",
      "\n"
     ]
    }
   ],
   "source": [
    "handle = open('mbox-short.txt')\n",
    "for line in handle:\n",
    "    line.rstrip()\n",
    "    # Extract line starts with Received:     \n",
    "    if re.search('^\\s\\w+, ',line):\n",
    "        print(line)"
   ]
  },
  {
   "cell_type": "markdown",
   "metadata": {},
   "source": [
    "## Extract Matched items"
   ]
  },
  {
   "cell_type": "code",
   "execution_count": 46,
   "metadata": {
    "scrolled": true
   },
   "outputs": [
    {
     "name": "stdout",
     "output_type": "stream",
     "text": [
      "['23', '13']\n",
      "{'e': 5150, 'a': 4829, 'i': 4343, 'o': 4106, 'r': 3683, 't': 3421, 's': 3128, 'u': 2990, 'c': 2745, 'n': 2512, 'p': 1983, 'm': 1774, 'l': 1729, 'd': 1656, 'h': 1376, 'k': 1087, 'b': 969, 'v': 962, 'g': 880, 'f': 759, 'y': 584, 'j': 568, 'w': 498, 'x': 252, 'z': 70, 'q': 47}\n"
     ]
    }
   ],
   "source": [
    "sentence = 'My name is shahab i am from karachi i am 23 and in class 13 ok'\n",
    "out = re.findall('[0-9]+',sentence)\n",
    "print(out)\n",
    "\n",
    "# Histogram of words\n",
    "sent = open('mbox-short.txt')\n",
    "read_sent = sent.read()\n",
    "\n",
    "out2 = re.findall('[a-z]',read_sent)\n",
    "\n",
    "words = dict()\n",
    "for word in out2:\n",
    "    words[word] = words.get(word,0) +1\n",
    "\n",
    "#Sort the array \n",
    "sorted_words_rev = sorted([(v,k) for (k,v) in words.items()],reverse=True)\n",
    "sorted_words = [(k,v) for (v,k) in sorted_words_rev]\n",
    "\n",
    "words2 = dict()\n",
    "for (k,v) in sorted_words:\n",
    "    words2[k] = v\n",
    "\n",
    "# print(voovil)\n",
    "print(words2)"
   ]
  },
  {
   "cell_type": "code",
   "execution_count": 2,
   "metadata": {
    "scrolled": true
   },
   "outputs": [
    {
     "name": "stdout",
     "output_type": "stream",
     "text": [
      ".edu mails ['From zqian@umich.edu', 'to zqian@umich.edu', 'zqian@umich.edu', 'zqian@umich.edu', 'From rjlowe@iupui.edu', 'to rjlowe@iupui.edu', 'rjlowe@iupui.edu', 'rjlowe@iupui.edu', 'From zqian@umich.edu', 'to zqian@umich.edu', 'zqian@umich.edu', 'zqian@umich.edu', 'zqian@umich.edu', 'From rjlowe@iupui.edu', 'to rjlowe@iupui.edu', 'rjlowe@iupui.edu', 'rjlowe@iupui.edu', 'From cwen@iupui.edu', 'to cwen@iupui.edu', 'cwen@iupui.edu', 'cwen@iupui.edu', 'hu2@iupui.edu', 'From cwen@iupui.edu', 'to cwen@iupui.edu', 'cwen@iupui.edu', 'cwen@iupui.edu', 'hu2@iupui.edu', 'From gsilver@umich.edu', 'to gsilver@umich.edu', 'gsilver@umich.edu', 'gsilver@umich.edu', 'From gsilver@umich.edu', 'to gsilver@umich.edu', 'gsilver@umich.edu', 'gsilver@umich.edu', 'From zqian@umich.edu', 'to zqian@umich.edu', 'zqian@umich.edu', 'zqian@umich.edu', 'From gsilver@umich.edu', 'to gsilver@umich.edu', 'gsilver@umich.edu', 'gsilver@umich.edu', 'From wagnermr@iupui.edu', 'to wagnermr@iupui.edu', 'wagnermr@iupui.edu', 'wagnermr@iupui.edu', 'From zqian@umich.edu', 'to zqian@umich.edu', 'zqian@umich.edu', 'zqian@umich.edu', 'josrodri@iupui.edu', 'josrodri@iupui.edu', 'From cwen@iupui.edu', 'to cwen@iupui.edu', 'cwen@iupui.edu', 'cwen@iupui.edu', 'From cwen@iupui.edu', 'to cwen@iupui.edu', 'cwen@iupui.edu', 'cwen@iupui.edu', 'wagnermr@iupui.edu', 'From cwen@iupui.edu', 'to cwen@iupui.edu', 'cwen@iupui.edu', 'cwen@iupui.edu', 'wagnermr@iupui.edu']\n",
      "all mails ['stephen.marquard@uct.ac.za']\n",
      "just specific domain ['uct.ac.za']\n"
     ]
    }
   ],
   "source": [
    "# Extract email from file\n",
    "sent = open('mbox-short.txt')\n",
    "read_sent = sent.read()\n",
    "\n",
    "# Mails end with .edu domain\n",
    "mails = re.findall('\\w+.\\w+@\\w+.edu',read_sent)\n",
    "print('.edu mails',mails)        \n",
    "\n",
    "# All the mail adress\n",
    "mails2 = re.findall('^From (\\S+@\\S+)',read_sent)\n",
    "print('all mails',mails2)        \n",
    "\n",
    "# Just domain\n",
    "mails2 = re.findall('^From .*@([^ ]*)',read_sent)\n",
    "print('just specific domain',mails2)        "
   ]
  },
  {
   "cell_type": "markdown",
   "metadata": {},
   "source": [
    "# Assignments\n",
    "## Week 02\n",
    "### **Problem Statement:**\n",
    "- In this assignment you will read through and parse a file with text and numbers.\n",
    "- You will extractall the numbers in the file and compute the sum of the numbers."
   ]
  },
  {
   "cell_type": "code",
   "execution_count": 8,
   "metadata": {},
   "outputs": [
    {
     "name": "stdout",
     "output_type": "stream",
     "text": [
      "There are total: 1236 values AND Sum of the values are: 3103023\n"
     ]
    }
   ],
   "source": [
    "file_handle = open('mbox-short.txt')\n",
    "file_handle_re = file_handle.read()\n",
    "file_num = re.findall('[0-9]+ ',file_handle_re)\n",
    "\n",
    "sum_of = 0\n",
    "count = 0\n",
    "\n",
    "for num in file_num:\n",
    "    sum_of += int(num)\n",
    "    count += 1\n",
    "\n",
    "print(f'There are total: {count} values AND Sum of the values are: {sum_of}')"
   ]
  },
  {
   "cell_type": "markdown",
   "metadata": {},
   "source": [
    "# Resources:\n",
    "- [[5 Minute Tutorial] Regular Expressions (Regex) in Python](https://www.youtube.com/watch?v=UQQsYXa1EHs)\n",
    "- [How to use Python Raw Strings?](https://www.askpython.com/python/string/python-raw-strings#:~:text=A%20Python%20raw%20string%20is,treated%20as%20a%20escape%20character.)\n",
    "- [Using Python to Access Web Data](https://www.coursera.org/learn/python-network-data)"
   ]
  }
 ],
 "metadata": {
  "kernelspec": {
   "display_name": "Python 3",
   "language": "python",
   "name": "python3"
  },
  "language_info": {
   "codemirror_mode": {
    "name": "ipython",
    "version": 3
   },
   "file_extension": ".py",
   "mimetype": "text/x-python",
   "name": "python",
   "nbconvert_exporter": "python",
   "pygments_lexer": "ipython3",
   "version": "3.8.5"
  }
 },
 "nbformat": 4,
 "nbformat_minor": 4
}
