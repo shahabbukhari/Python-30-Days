{
 "cells": [
  {
   "cell_type": "code",
   "execution_count": 1,
   "metadata": {},
   "outputs": [],
   "source": [
    "# List constructor creates a new empty list\n",
    "mylist = list()"
   ]
  },
  {
   "cell_type": "code",
   "execution_count": 4,
   "metadata": {},
   "outputs": [
    {
     "name": "stdout",
     "output_type": "stream",
     "text": [
      "Enter a number55\n",
      "Enter a number2\n",
      "Enter a number1\n",
      "Enter a number05\n",
      "Enter a number0.2\n",
      "Enter a number55\n",
      "Enter a number888\n",
      "Enter a number148\n",
      "Enter a numberdone\n",
      "Sum of the list items: 8014.7\n",
      "Min value of the list items: 0.2\n",
      "Max value of the list items: 4789.0\n",
      "avg of the list items: 471.4529411764706\n"
     ]
    }
   ],
   "source": [
    "while True:\n",
    "    inp = input('Enter a number')\n",
    "    if inp == 'done': break\n",
    "    inp_val = float(inp)\n",
    "    mylist.append(inp_val)\n",
    "print(f'Sum of the list items: {sum(mylist)}')\n",
    "print(f'Min value of the list items: {min(mylist)}')\n",
    "print(f'Max value of the list items: {max(mylist)}')\n",
    "print(f'avg of the list items: {sum(mylist)/len(mylist)}')"
   ]
  },
  {
   "cell_type": "code",
   "execution_count": 5,
   "metadata": {
    "scrolled": true
   },
   "outputs": [
    {
     "data": {
      "text/plain": [
       "[5.0,\n",
       " 5.0,\n",
       " 68.0,\n",
       " 6.5,\n",
       " 44.0,\n",
       " 4789.0,\n",
       " 222.0,\n",
       " 1452.0,\n",
       " 269.0,\n",
       " 55.0,\n",
       " 2.0,\n",
       " 1.0,\n",
       " 5.0,\n",
       " 0.2,\n",
       " 55.0,\n",
       " 888.0,\n",
       " 148.0]"
      ]
     },
     "execution_count": 5,
     "metadata": {},
     "output_type": "execute_result"
    }
   ],
   "source": [
    "mylist"
   ]
  },
  {
   "cell_type": "code",
   "execution_count": 6,
   "metadata": {},
   "outputs": [
    {
     "data": {
      "text/plain": [
       "False"
      ]
     },
     "execution_count": 6,
     "metadata": {},
     "output_type": "execute_result"
    }
   ],
   "source": [
    "4.5 in mylist"
   ]
  },
  {
   "cell_type": "code",
   "execution_count": 7,
   "metadata": {},
   "outputs": [
    {
     "data": {
      "text/plain": [
       "True"
      ]
     },
     "execution_count": 7,
     "metadata": {},
     "output_type": "execute_result"
    }
   ],
   "source": [
    "6.5 in mylist"
   ]
  },
  {
   "cell_type": "code",
   "execution_count": 8,
   "metadata": {},
   "outputs": [
    {
     "data": {
      "text/plain": [
       "True"
      ]
     },
     "execution_count": 8,
     "metadata": {},
     "output_type": "execute_result"
    }
   ],
   "source": [
    "4.5 not in mylist"
   ]
  },
  {
   "cell_type": "code",
   "execution_count": 9,
   "metadata": {},
   "outputs": [
    {
     "data": {
      "text/plain": [
       "3"
      ]
     },
     "execution_count": 9,
     "metadata": {},
     "output_type": "execute_result"
    }
   ],
   "source": [
    "# count returns the number of time element apears\n",
    "mylist.count(5)"
   ]
  },
  {
   "cell_type": "code",
   "execution_count": 10,
   "metadata": {},
   "outputs": [],
   "source": [
    "name = 'my       name                 is                   shahab'"
   ]
  },
  {
   "cell_type": "code",
   "execution_count": null,
   "metadata": {},
   "outputs": [],
   "source": []
  },
  {
   "cell_type": "code",
   "execution_count": null,
   "metadata": {},
   "outputs": [],
   "source": []
  }
 ],
 "metadata": {
  "kernelspec": {
   "display_name": "Python 3",
   "language": "python",
   "name": "python3"
  },
  "language_info": {
   "codemirror_mode": {
    "name": "ipython",
    "version": 3
   },
   "file_extension": ".py",
   "mimetype": "text/x-python",
   "name": "python",
   "nbconvert_exporter": "python",
   "pygments_lexer": "ipython3",
   "version": "3.8.5"
  }
 },
 "nbformat": 4,
 "nbformat_minor": 4
}
