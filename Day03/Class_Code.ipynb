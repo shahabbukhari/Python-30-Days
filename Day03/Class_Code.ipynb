{
 "cells": [
  {
   "cell_type": "markdown",
   "metadata": {},
   "source": [
    "# Lists [ ]"
   ]
  },
  {
   "cell_type": "code",
   "execution_count": 25,
   "metadata": {},
   "outputs": [
    {
     "data": {
      "text/plain": [
       "[1, 2, 3, 4, 5, 6, 7, 8, 9, 0]"
      ]
     },
     "execution_count": 25,
     "metadata": {},
     "output_type": "execute_result"
    }
   ],
   "source": [
    "a = [1,2,3,4,5]\n",
    "b = [6,7,8,9,0]\n",
    "c = a + b\n",
    "c"
   ]
  },
  {
   "cell_type": "code",
   "execution_count": 1,
   "metadata": {},
   "outputs": [],
   "source": [
    "# List constructor creates a new empty list\n",
    "mylist = list()"
   ]
  },
  {
   "cell_type": "code",
   "execution_count": 4,
   "metadata": {},
   "outputs": [
    {
     "name": "stdout",
     "output_type": "stream",
     "text": [
      "Enter a number55\n",
      "Enter a number2\n",
      "Enter a number1\n",
      "Enter a number05\n",
      "Enter a number0.2\n",
      "Enter a number55\n",
      "Enter a number888\n",
      "Enter a number148\n",
      "Enter a numberdone\n",
      "Sum of the list items: 8014.7\n",
      "Min value of the list items: 0.2\n",
      "Max value of the list items: 4789.0\n",
      "avg of the list items: 471.4529411764706\n"
     ]
    }
   ],
   "source": [
    "while True:\n",
    "    inp = input('Enter a number')\n",
    "    if inp == 'done': break\n",
    "    inp_val = float(inp)\n",
    "    mylist.append(inp_val)\n",
    "print(f'Sum of the list items: {sum(mylist)}')\n",
    "print(f'Min value of the list items: {min(mylist)}')\n",
    "print(f'Max value of the list items: {max(mylist)}')\n",
    "print(f'avg of the list items: {sum(mylist)/len(mylist)}')"
   ]
  },
  {
   "cell_type": "code",
   "execution_count": 5,
   "metadata": {
    "scrolled": true
   },
   "outputs": [
    {
     "data": {
      "text/plain": [
       "[5.0,\n",
       " 5.0,\n",
       " 68.0,\n",
       " 6.5,\n",
       " 44.0,\n",
       " 4789.0,\n",
       " 222.0,\n",
       " 1452.0,\n",
       " 269.0,\n",
       " 55.0,\n",
       " 2.0,\n",
       " 1.0,\n",
       " 5.0,\n",
       " 0.2,\n",
       " 55.0,\n",
       " 888.0,\n",
       " 148.0]"
      ]
     },
     "execution_count": 5,
     "metadata": {},
     "output_type": "execute_result"
    }
   ],
   "source": [
    "mylist"
   ]
  },
  {
   "cell_type": "code",
   "execution_count": 6,
   "metadata": {},
   "outputs": [
    {
     "data": {
      "text/plain": [
       "False"
      ]
     },
     "execution_count": 6,
     "metadata": {},
     "output_type": "execute_result"
    }
   ],
   "source": [
    "4.5 in mylist"
   ]
  },
  {
   "cell_type": "code",
   "execution_count": 7,
   "metadata": {},
   "outputs": [
    {
     "data": {
      "text/plain": [
       "True"
      ]
     },
     "execution_count": 7,
     "metadata": {},
     "output_type": "execute_result"
    }
   ],
   "source": [
    "6.5 in mylist"
   ]
  },
  {
   "cell_type": "code",
   "execution_count": 8,
   "metadata": {},
   "outputs": [
    {
     "data": {
      "text/plain": [
       "True"
      ]
     },
     "execution_count": 8,
     "metadata": {},
     "output_type": "execute_result"
    }
   ],
   "source": [
    "4.5 not in mylist"
   ]
  },
  {
   "cell_type": "code",
   "execution_count": 9,
   "metadata": {},
   "outputs": [
    {
     "data": {
      "text/plain": [
       "3"
      ]
     },
     "execution_count": 9,
     "metadata": {},
     "output_type": "execute_result"
    }
   ],
   "source": [
    "# count returns the number of time element apears\n",
    "mylist.count(5)"
   ]
  },
  {
   "cell_type": "code",
   "execution_count": 21,
   "metadata": {},
   "outputs": [],
   "source": [
    "# Remove the extra useless space\n",
    "name = 'my       name                 is                  shahab'"
   ]
  },
  {
   "cell_type": "code",
   "execution_count": 22,
   "metadata": {},
   "outputs": [],
   "source": [
    "pieces = name.split()\n",
    "namenew = ''\n",
    "for piece in pieces:\n",
    "    namenew += f'{piece} '"
   ]
  },
  {
   "cell_type": "code",
   "execution_count": 23,
   "metadata": {},
   "outputs": [
    {
     "data": {
      "text/plain": [
       "'my name is shahab '"
      ]
     },
     "execution_count": 23,
     "metadata": {},
     "output_type": "execute_result"
    }
   ],
   "source": [
    "namenew"
   ]
  },
  {
   "cell_type": "code",
   "execution_count": 28,
   "metadata": {},
   "outputs": [
    {
     "data": {
      "text/plain": [
       "[12, 3]"
      ]
     },
     "execution_count": 28,
     "metadata": {},
     "output_type": "execute_result"
    }
   ],
   "source": [
    "t = [9, 41, 12, 3, 74, 15]\n",
    "t[2:4]"
   ]
  },
  {
   "cell_type": "markdown",
   "metadata": {},
   "source": [
    "# Week 4 \n",
    "## Assignment # 8.4\n",
    "- Open the file romeo.txt and read it line by line. For each line, \n",
    "- split the line into a list of words using the split() method. \n",
    "- The program should build a list of words. For each word on each line check to see if the word is already\n",
    "    in the list and if not append it to the list. \n",
    "- When the program completes,sort and print the resulting words in alphabetical order.\n",
    "\n",
    "You can download the sample data at http://www.pythonlearn.com/code/romeo.txt"
   ]
  },
  {
   "cell_type": "code",
   "execution_count": 41,
   "metadata": {},
   "outputs": [
    {
     "name": "stdout",
     "output_type": "stream",
     "text": [
      "Arise\n",
      "But\n",
      "It\n",
      "Juliet\n",
      "Who\n",
      "already\n",
      "and\n",
      "breaks\n",
      "east\n",
      "envious\n",
      "fair\n",
      "grief\n",
      "is\n",
      "kill\n",
      "light\n",
      "moon\n",
      "pale\n",
      "sick\n",
      "soft\n",
      "sun\n",
      "the\n",
      "through\n",
      "what\n",
      "window\n",
      "with\n",
      "yonder\n"
     ]
    }
   ],
   "source": [
    "file = open('romeo.txt')\n",
    "read_file = file.read()\n",
    "words_list = read_file.split()\n",
    "unique_words = list()\n",
    "for word in words_list:\n",
    "    if word in unique_words: continue\n",
    "    unique_words.append(word)\n",
    "unique_words.sort()\n",
    "for word in unique_words:\n",
    "    print(word)"
   ]
  },
  {
   "cell_type": "markdown",
   "metadata": {},
   "source": [
    "## Assignment # 8.5\n",
    "- Open the file mbox-short.txt and read it line by line. \n",
    "- When you find a line that starts with 'From ' like the following line: *From stephen.marquard@uct.ac.za Sat Jan  5 09:14:16 2008*\n",
    "- You will parse the From line using split() and print out the second word in the line (i.e. the entire address of the person who sent the message). \n",
    "- Then print out a count at the end.\n",
    "**Hint:** make sure not to include the lines that start with 'From:'.\n",
    "\n",
    "You can download the sample data at http://www.pythonlearn.com/code/mbox-short.txt\n"
   ]
  },
  {
   "cell_type": "code",
   "execution_count": 52,
   "metadata": {},
   "outputs": [
    {
     "name": "stdout",
     "output_type": "stream",
     "text": [
      "stephen.marquard@uct.ac.za\n",
      "louis@media.berkeley.edu\n",
      "zqian@umich.edu\n",
      "rjlowe@iupui.edu\n",
      "zqian@umich.edu\n",
      "rjlowe@iupui.edu\n",
      "cwen@iupui.edu\n",
      "cwen@iupui.edu\n",
      "gsilver@umich.edu\n",
      "gsilver@umich.edu\n",
      "zqian@umich.edu\n",
      "gsilver@umich.edu\n",
      "wagnermr@iupui.edu\n",
      "zqian@umich.edu\n",
      "antranig@caret.cam.ac.uk\n",
      "gopal.ramasammycook@gmail.com\n",
      "david.horwitz@uct.ac.za\n",
      "david.horwitz@uct.ac.za\n",
      "david.horwitz@uct.ac.za\n",
      "david.horwitz@uct.ac.za\n",
      "stephen.marquard@uct.ac.za\n",
      "louis@media.berkeley.edu\n",
      "louis@media.berkeley.edu\n",
      "ray@media.berkeley.edu\n",
      "cwen@iupui.edu\n",
      "cwen@iupui.edu\n",
      "cwen@iupui.edu\n",
      "total number of times addresses appears: 27\n"
     ]
    }
   ],
   "source": [
    "file = open('mbox-short.txt')\n",
    "count = 0;\n",
    "for line in file:\n",
    "    if line.startswith('From '): \n",
    "        line_itm = line.split()\n",
    "        print(line_itm[1])\n",
    "        count += 1\n",
    "print(f'total number of times addresses appears: {count}')"
   ]
  },
  {
   "cell_type": "markdown",
   "metadata": {},
   "source": [
    "# Dictionaries { }"
   ]
  },
  {
   "cell_type": "code",
   "execution_count": 53,
   "metadata": {},
   "outputs": [
    {
     "name": "stdout",
     "output_type": "stream",
     "text": [
      "name\n",
      "city\n",
      "class\n"
     ]
    }
   ],
   "source": [
    "mydict = {\n",
    "    'name': 'Shahab',\n",
    "    'city': 'Faislabad',\n",
    "    'class': 13\n",
    "}\n",
    "for x in mydict:\n",
    "    print(x)\n",
    "# Python just keys when we itrate "
   ]
  },
  {
   "cell_type": "code",
   "execution_count": 54,
   "metadata": {},
   "outputs": [
    {
     "data": {
      "text/plain": [
       "['__class__',\n",
       " '__contains__',\n",
       " '__delattr__',\n",
       " '__delitem__',\n",
       " '__dir__',\n",
       " '__doc__',\n",
       " '__eq__',\n",
       " '__format__',\n",
       " '__ge__',\n",
       " '__getattribute__',\n",
       " '__getitem__',\n",
       " '__gt__',\n",
       " '__hash__',\n",
       " '__init__',\n",
       " '__init_subclass__',\n",
       " '__iter__',\n",
       " '__le__',\n",
       " '__len__',\n",
       " '__lt__',\n",
       " '__ne__',\n",
       " '__new__',\n",
       " '__reduce__',\n",
       " '__reduce_ex__',\n",
       " '__repr__',\n",
       " '__reversed__',\n",
       " '__setattr__',\n",
       " '__setitem__',\n",
       " '__sizeof__',\n",
       " '__str__',\n",
       " '__subclasshook__',\n",
       " 'clear',\n",
       " 'copy',\n",
       " 'fromkeys',\n",
       " 'get',\n",
       " 'items',\n",
       " 'keys',\n",
       " 'pop',\n",
       " 'popitem',\n",
       " 'setdefault',\n",
       " 'update',\n",
       " 'values']"
      ]
     },
     "execution_count": 54,
     "metadata": {},
     "output_type": "execute_result"
    }
   ],
   "source": [
    "# Some Special methods of dictionaries\n",
    "dir(mydict)\n",
    "# __iter__ is the method that python call when we itrate over dictionary using for loop"
   ]
  },
  {
   "cell_type": "code",
   "execution_count": 55,
   "metadata": {},
   "outputs": [
    {
     "name": "stdout",
     "output_type": "stream",
     "text": [
      "name -> Shahab\n",
      "city -> Faislabad\n",
      "class -> 13\n"
     ]
    }
   ],
   "source": [
    "# as we we this will return keys\n",
    "for x in mydict:\n",
    "    print(x, '->',mydict[x])"
   ]
  },
  {
   "cell_type": "code",
   "execution_count": 60,
   "metadata": {},
   "outputs": [
    {
     "data": {
      "text/plain": [
       "dict_items([('name', 'Shahab'), ('city', 'Faislabad'), ('class', 13)])"
      ]
     },
     "execution_count": 60,
     "metadata": {},
     "output_type": "execute_result"
    }
   ],
   "source": [
    "# For itrating over item we have a method of items which return list with tuples \n",
    "mydict.items()"
   ]
  },
  {
   "cell_type": "code",
   "execution_count": 62,
   "metadata": {},
   "outputs": [
    {
     "name": "stdout",
     "output_type": "stream",
     "text": [
      "Shahab\n",
      "Faislabad\n",
      "13\n",
      "name -> Shahab\n",
      "city -> Faislabad\n",
      "class -> 13\n"
     ]
    }
   ],
   "source": [
    "# methode 1\n",
    "for i in mydict.items():\n",
    "    # i put one as index bcz i know the 2 item is always be value of the key   \n",
    "    print(i[1])\n",
    "# methode 2 - tuple unpacking\n",
    "for key,value in mydict.items():\n",
    "    print(key,'->',value)"
   ]
  },
  {
   "cell_type": "code",
   "execution_count": 64,
   "metadata": {},
   "outputs": [
    {
     "name": "stdout",
     "output_type": "stream",
     "text": [
      "Shahab\n",
      "Faislabad\n",
      "13\n"
     ]
    }
   ],
   "source": [
    "# itrate through values simple\n",
    "values = mydict.values()\n",
    "for i in values:\n",
    "    print(i)"
   ]
  },
  {
   "cell_type": "code",
   "execution_count": 66,
   "metadata": {},
   "outputs": [
    {
     "ename": "KeyError",
     "evalue": "'age'",
     "output_type": "error",
     "traceback": [
      "\u001b[0;31m---------------------------------------------------------------------------\u001b[0m",
      "\u001b[0;31mKeyError\u001b[0m                                  Traceback (most recent call last)",
      "\u001b[0;32m<ipython-input-66-4daed29c545a>\u001b[0m in \u001b[0;36m<module>\u001b[0;34m\u001b[0m\n\u001b[0;32m----> 1\u001b[0;31m \u001b[0mmyage\u001b[0m \u001b[0;34m=\u001b[0m \u001b[0mmydict\u001b[0m\u001b[0;34m[\u001b[0m\u001b[0;34m'age'\u001b[0m\u001b[0;34m]\u001b[0m\u001b[0;34m\u001b[0m\u001b[0;34m\u001b[0m\u001b[0m\n\u001b[0m",
      "\u001b[0;31mKeyError\u001b[0m: 'age'"
     ]
    }
   ],
   "source": [
    "myage = mydict['age']"
   ]
  },
  {
   "cell_type": "code",
   "execution_count": 67,
   "metadata": {},
   "outputs": [
    {
     "data": {
      "text/plain": [
       "0"
      ]
     },
     "execution_count": 67,
     "metadata": {},
     "output_type": "execute_result"
    }
   ],
   "source": [
    "# So if i try to get a value of the key does not exists it shows an error\n",
    "# Solution\n",
    "myage = mydict.get('age',0)\n",
    "# It try to get the value if it does not find any thing it will return default vlaue in secong parameter\n",
    "myage"
   ]
  },
  {
   "cell_type": "markdown",
   "metadata": {},
   "source": [
    "# Week 5\n",
    "## Assignment # 9.4\n",
    "- Write a program to read through the mbox-short.txt and figure out who has the sent the greatest number of mail messages. \n",
    "- The program looks for 'From ' lines and takes the second word of those lines as the person who sent the mail.\n",
    "- The program creates a Python dictionary that maps the sender's mail address to a count of the number of times they appear in the file. \n",
    "- After the dictionary is produced, the program reads through the dictionary using a maximum loop to find the most prolific committer."
   ]
  },
  {
   "cell_type": "code",
   "execution_count": 15,
   "metadata": {},
   "outputs": [
    {
     "name": "stdout",
     "output_type": "stream",
     "text": [
      "Mails histogram: {'stephen.marquard@uct.ac.za': 2, 'louis@media.berkeley.edu': 3, 'zqian@umich.edu': 4, 'rjlowe@iupui.edu': 2, 'cwen@iupui.edu': 5, 'gsilver@umich.edu': 3, 'wagnermr@iupui.edu': 1, 'antranig@caret.cam.ac.uk': 1, 'gopal.ramasammycook@gmail.com': 1, 'david.horwitz@uct.ac.za': 4, 'ray@media.berkeley.edu': 1}\n",
      "Most mails are from: cwen@iupui.edu\n",
      "Total number of mails are: 5\n"
     ]
    }
   ],
   "source": [
    "handle = open('mbox-short.txt')\n",
    "mails = list()\n",
    "for line in handle:\n",
    "    if line.startswith('From '):\n",
    "        line_piece = line.split()\n",
    "        mails.append(line_piece[1])\n",
    "\n",
    "mail_count = dict()\n",
    "for mail in mails:\n",
    "    mail_count[mail] = mail_count.get(mail,0) + 1\n",
    "\n",
    "most_mail_by = ''\n",
    "count = 0\n",
    "for user,times in mail_count.items():\n",
    "#     print(user,'->',times)\n",
    "    if most_mail_by == '' or times > count:\n",
    "        most_mail_by = user\n",
    "        count = times\n",
    "print(f'Mails histogram: {mail_count}')\n",
    "print(f'Most mails are from: {most_mail_by}')\n",
    "print(f'Total number of mails are: {count}')"
   ]
  },
  {
   "cell_type": "markdown",
   "metadata": {},
   "source": [
    "# Tuple ( )\n",
    "tuple are the limit version of lists they are immutable. "
   ]
  },
  {
   "cell_type": "code",
   "execution_count": 20,
   "metadata": {},
   "outputs": [
    {
     "data": {
      "text/plain": [
       "['__add__',\n",
       " '__class__',\n",
       " '__contains__',\n",
       " '__delattr__',\n",
       " '__dir__',\n",
       " '__doc__',\n",
       " '__eq__',\n",
       " '__format__',\n",
       " '__ge__',\n",
       " '__getattribute__',\n",
       " '__getitem__',\n",
       " '__getnewargs__',\n",
       " '__gt__',\n",
       " '__hash__',\n",
       " '__init__',\n",
       " '__init_subclass__',\n",
       " '__iter__',\n",
       " '__le__',\n",
       " '__len__',\n",
       " '__lt__',\n",
       " '__mul__',\n",
       " '__ne__',\n",
       " '__new__',\n",
       " '__reduce__',\n",
       " '__reduce_ex__',\n",
       " '__repr__',\n",
       " '__rmul__',\n",
       " '__setattr__',\n",
       " '__sizeof__',\n",
       " '__str__',\n",
       " '__subclasshook__',\n",
       " 'count',\n",
       " 'index']"
      ]
     },
     "execution_count": 20,
     "metadata": {},
     "output_type": "execute_result"
    }
   ],
   "source": [
    "my_tuple = tuple()\n",
    "dir(my_tuple)\n",
    "# Tuple have most of the methods list have other than those methods which can change the structure of the \n",
    "# tuple like append,insert,sort etc\n",
    "# thats why its more efficeient and fast"
   ]
  },
  {
   "cell_type": "code",
   "execution_count": 23,
   "metadata": {},
   "outputs": [
    {
     "name": "stdout",
     "output_type": "stream",
     "text": [
      "x -> 23\n",
      "y -> ss\n"
     ]
    }
   ],
   "source": [
    "# tuple assignment\n",
    "(x,y) = (23,'ss')\n",
    "print(f'x -> {x}')\n",
    "print(f'y -> {y}')"
   ]
  },
  {
   "cell_type": "code",
   "execution_count": null,
   "metadata": {},
   "outputs": [],
   "source": []
  }
 ],
 "metadata": {
  "kernelspec": {
   "display_name": "Python 3",
   "language": "python",
   "name": "python3"
  },
  "language_info": {
   "codemirror_mode": {
    "name": "ipython",
    "version": 3
   },
   "file_extension": ".py",
   "mimetype": "text/x-python",
   "name": "python",
   "nbconvert_exporter": "python",
   "pygments_lexer": "ipython3",
   "version": "3.8.5"
  }
 },
 "nbformat": 4,
 "nbformat_minor": 4
}
